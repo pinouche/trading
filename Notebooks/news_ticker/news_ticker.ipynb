{
 "cells": [
  {
   "cell_type": "code",
   "execution_count": 1,
   "id": "d2634eb7-3e7f-4620-906f-d0ef43388a20",
   "metadata": {},
   "outputs": [
    {
     "name": "stderr",
     "output_type": "stream",
     "text": [
      "/home/thomas/miniconda3/lib/python3.11/site-packages/sentence_transformers/cross_encoder/CrossEncoder.py:11: TqdmExperimentalWarning: Using `tqdm.autonotebook.tqdm` in notebook mode. Use `tqdm.tqdm` instead to force console mode (e.g. in jupyter console)\n",
      "  from tqdm.autonotebook import tqdm, trange\n",
      "/home/thomas/miniconda3/lib/python3.11/site-packages/torch/cuda/__init__.py:118: UserWarning: CUDA initialization: CUDA unknown error - this may be due to an incorrectly set up environment, e.g. changing env variable CUDA_VISIBLE_DEVICES after program start. Setting the available devices to be zero. (Triggered internally at ../c10/cuda/CUDAFunctions.cpp:108.)\n",
      "  return torch._C._cuda_getDeviceCount() > 0\n",
      "No CUDA runtime is found, using CUDA_HOME='/usr/local/cuda'\n"
     ]
    }
   ],
   "source": [
    "import numpy as np\n",
    "import requests\n",
    "import json\n",
    "from datetime import datetime, timedelta\n",
    "from sentence_transformers import SentenceTransformer\n",
    "from sentence_transformers.util import cos_sim"
   ]
  },
  {
   "cell_type": "markdown",
   "id": "5529f369-1ef0-4b36-a0c2-b5b526216316",
   "metadata": {},
   "source": [
    "# Get embeddings"
   ]
  },
  {
   "cell_type": "code",
   "execution_count": 2,
   "id": "1472f11d-633c-4479-8634-33617e7c6487",
   "metadata": {},
   "outputs": [],
   "source": [
    "def get_models(model_list: list[str]):\n",
    "\n",
    "    dict_models = {}\n",
    "\n",
    "    for model_string in model_list:\n",
    "        model = SentenceTransformer(model_string, device=\"cpu\")\n",
    "        dict_models[model_string] = model\n",
    "        \n",
    "    return dict_models"
   ]
  },
  {
   "cell_type": "code",
   "execution_count": 3,
   "id": "6971eb82-c600-4a7c-89e9-a3e0dbcc92d3",
   "metadata": {},
   "outputs": [],
   "source": [
    "def get_embeddings(model, text_input, model_string):\n",
    "\n",
    "    if isinstance(text_input, str):\n",
    "        text_input = [text_input]\n",
    "\n",
    "    embeddings = model.encode(list(text_input), normalize_embeddings=True)\n",
    "        \n",
    "    return np.array(embeddings)"
   ]
  },
  {
   "cell_type": "code",
   "execution_count": 4,
   "id": "f1a8ee7b-58cb-4228-bee9-903419f2d07f",
   "metadata": {},
   "outputs": [],
   "source": [
    "model_list = [\"mixedbread-ai/mxbai-embed-large-v1\",\n",
    "              \"WhereIsAI/UAE-Large-V1\",\n",
    "              \"avsolatorio/GIST-large-Embedding-v0\",\n",
    "              \"BAAI/bge-large-en-v1.5\",\n",
    "              \"llmrails/ember-v1\",\n",
    "             ]"
   ]
  },
  {
   "cell_type": "markdown",
   "id": "4c160ea5-6f9c-45d6-8004-af5b8c0cf651",
   "metadata": {},
   "source": [
    "# Get news"
   ]
  },
  {
   "cell_type": "code",
   "execution_count": 5,
   "id": "a6e321dd-e3c7-408b-8d79-b8b126551d37",
   "metadata": {},
   "outputs": [],
   "source": [
    "def get_previous_date(days_back: int = 30):\n",
    "\n",
    "    now = datetime.utcnow()\n",
    "    previous_date = now - timedelta(days=days_back)\n",
    "    formatted_date = previous_date.strftime('%Y-%m-%dT%H:%M:%SZ')\n",
    "    \n",
    "    return formatted_date"
   ]
  },
  {
   "cell_type": "code",
   "execution_count": 6,
   "id": "6b1dff67-c733-40a4-85db-a28c46a5721e",
   "metadata": {},
   "outputs": [],
   "source": [
    "def request_data(ticker_symbol: str, key: str, date: str|None= None):\n",
    "\n",
    "    url = f'''https://api.polygon.io/v2/reference/news?ticker={ticker_symbol}&limit=100&sort=published_utc&apiKey={key}'''\n",
    "    if date:\n",
    "        url = f'''https://api.polygon.io/v2/reference/news?ticker={ticker_symbol}&published_utc.gte={date}&limit=100&sort=published_utc&apiKey={key}'''\n",
    "\n",
    "    headers = {\n",
    "        'Accept': 'application/json'\n",
    "    }\n",
    "    \n",
    "    try:\n",
    "        # Make the GET request\n",
    "        response = requests.get(url, headers=headers)\n",
    "        response.raise_for_status()  # Raise an error for bad responses (4xx or 5xx)\n",
    "\n",
    "        data = response.json()\n",
    "\n",
    "        if not data:\n",
    "            return None\n",
    "        \n",
    "        return data\n",
    "\n",
    "    except requests.exceptions.RequestException as e:\n",
    "        print(f\"An error occurred: {e}\")\n",
    "        return None, None\n"
   ]
  },
  {
   "cell_type": "code",
   "execution_count": 7,
   "id": "a9708689-4e01-4ba3-bae5-030412745533",
   "metadata": {},
   "outputs": [],
   "source": [
    "date = get_previous_date(90)"
   ]
  },
  {
   "cell_type": "code",
   "execution_count": 8,
   "id": "efc889b2-b007-4c9f-8de5-67bd0d016e6a",
   "metadata": {},
   "outputs": [],
   "source": [
    "ticker = \"IONQ\""
   ]
  },
  {
   "cell_type": "code",
   "execution_count": 9,
   "id": "0a5ac2d0-6134-473c-8b47-4ea9c8c74d85",
   "metadata": {},
   "outputs": [],
   "source": [
    "data = request_data(ticker, \"qz0eLz8rGOD47auKwSn69ErwuCShUWE9\")"
   ]
  },
  {
   "cell_type": "code",
   "execution_count": 10,
   "id": "29fda360-e275-451d-8fee-33dcb712c2de",
   "metadata": {},
   "outputs": [],
   "source": [
    "titles = [value[\"title\"] for value in data['results']]"
   ]
  },
  {
   "cell_type": "code",
   "execution_count": 11,
   "id": "c2495b27-64d3-4235-bc9d-5e441d93da2b",
   "metadata": {},
   "outputs": [],
   "source": [
    "dict_models = get_models(model_list)"
   ]
  },
  {
   "cell_type": "code",
   "execution_count": null,
   "id": "20d2c5bb-fe73-45c5-82d5-8bdfba1bc3ec",
   "metadata": {},
   "outputs": [],
   "source": []
  },
  {
   "cell_type": "code",
   "execution_count": 12,
   "id": "5397809c-c2e7-45ec-9350-c7f1aee1371c",
   "metadata": {},
   "outputs": [],
   "source": [
    "embeddings_list = []\n",
    "\n",
    "for model_string in model_list:\n",
    "    model = dict_models[model_string]\n",
    "    embeddings = get_embeddings(model, titles, model_string)\n",
    "    embeddings_list.append(embeddings)"
   ]
  },
  {
   "cell_type": "code",
   "execution_count": 13,
   "id": "2e71ea5c-0d02-4c2b-8cbe-321b876ab965",
   "metadata": {},
   "outputs": [],
   "source": [
    "embeddings_list = np.array(embeddings_list)"
   ]
  },
  {
   "cell_type": "code",
   "execution_count": 14,
   "id": "37477951-6354-408c-934f-f6c7eead6dad",
   "metadata": {},
   "outputs": [
    {
     "data": {
      "text/plain": [
       "(5, 100, 1024)"
      ]
     },
     "execution_count": 14,
     "metadata": {},
     "output_type": "execute_result"
    }
   ],
   "source": [
    "embeddings_list.shape"
   ]
  },
  {
   "cell_type": "code",
   "execution_count": 15,
   "id": "29f67776-1fd1-4149-8710-a48641667e29",
   "metadata": {},
   "outputs": [],
   "source": [
    "e_terms_list = []\n",
    "\n",
    "for model_string in model_list:\n",
    "    model = dict_models[model_string]\n",
    "    embeddings = get_embeddings(model, \"A significant event (catalyst) happening in the future.\", model_string)\n",
    "    e_terms_list.append(embeddings)"
   ]
  },
  {
   "cell_type": "code",
   "execution_count": 16,
   "id": "146e8452-3474-4319-adb8-2f0adfa032e8",
   "metadata": {},
   "outputs": [],
   "source": [
    "e_terms_list = np.squeeze(np.array(e_terms_list))"
   ]
  },
  {
   "cell_type": "code",
   "execution_count": 17,
   "id": "6fa37be7-7a50-42b4-a7b4-6fb3f130c9dd",
   "metadata": {},
   "outputs": [],
   "source": [
    "similarity = cos_sim(embeddings_list[0], e_terms_list).mean(axis=1).numpy()"
   ]
  },
  {
   "cell_type": "code",
   "execution_count": 18,
   "id": "dd21fe33-3fdd-4323-9416-7883e05b7d04",
   "metadata": {},
   "outputs": [
    {
     "data": {
      "text/plain": [
       "array([\"Will Quantum Computing Take Off in 2024? Here's 1 Magnificent Stock to Buy If It Does.\",\n",
       "       '3 Breakthrough Stocks Leading the Next Tech Revolution',\n",
       "       'IonQ Has The Potential To Become A Long-Term Compounder',\n",
       "       'Got $3,000? These Stocks Could Double Your Money by 2030',\n",
       "       'Got $3,000? These 3 Tech Stocks Could Make You Rich in 2024 and Beyond',\n",
       "       'Will IonQ Be a Trillion-Dollar Stock by 2050?',\n",
       "       'IonQ Surged Over 290% in 2023, But Is It a Buy?',\n",
       "       'IonQ Stock Outperformed the S&P 500 in 2023. Could It Do It Again in 2024?',\n",
       "       '3 Growth Stocks That Could More Than Double Their Revenue by 2025',\n",
       "       'Microsoft Creates Buzz in Quantum Realm: 3 Stocks to Watch',\n",
       "       '3 Companies Already Working on the Next Phase of Artificial Intelligence (AI)',\n",
       "       '3 Unstoppable Technology Stocks to Take You From Next to Nothing to $500,000 and Beyond',\n",
       "       '3 Hypergrowth Stocks to Buy Heading Into 2024',\n",
       "       'Here is What to Know Beyond Why IonQ, Inc. (IONQ) is a Trending Stock',\n",
       "       '4 Reasons IonQ Stock Could Make You Money in 2024',\n",
       "       \"3 Unstoppable Growth Stocks I'm Loading $25,000 Each Into by 2029\",\n",
       "       '3 Up-and-Coming Artificial Intelligence (AI) Stocks to Buy in 2024',\n",
       "       'IonQ, Inc. (IONQ) Is a Trending Stock: Facts to Know Before Betting on It',\n",
       "       'Can This Under-the-Radar Tech Stock Disrupt Nvidia?',\n",
       "       'Could IonQ Become the Next Snowflake?',\n",
       "       'Where Will IonQ Stock Be in a Year?',\n",
       "       'Could IonQ Stock Be a Millionaire-Maker?',\n",
       "       'IonQ, Inc. (IONQ) is Attracting Investor Attention: Here is What You Should Know',\n",
       "       'If You Invested $1,000 in IonQ in 2021, This Is How Much You Would Have Today',\n",
       "       'IonQ Could Disrupt Artificial Intelligence. Why That Does Not Make It a Buy.',\n",
       "       'Could IonQ Become The Next Nvidia?',\n",
       "       'Is Trending Stock IonQ, Inc. (IONQ) a Buy Now?',\n",
       "       'D-Wave Quantum Stands Out in Commercial Quantum Computing Revolution, Bullish Analyst Says',\n",
       "       'Where Will IonQ Stock Be in 1 Year?',\n",
       "       'Wall Street Analysts Think IonQ, Inc. (IONQ) Could Surge 33.86%: Read This Before Placing a Bet',\n",
       "       '3 Artificial Intelligence (AI) Stocks That Could Make You a Millionaire',\n",
       "       'Is It Time to Buy the Dip on IonQ Stock?',\n",
       "       'Investors Heavily Search IonQ, Inc. (IONQ): Here is What You Need to Know',\n",
       "       'IonQ Stock Analysis: Buy, Sell, or Hold?',\n",
       "       'With Quantum Threats Looming, Major Healthcare Players Turn to Quantum-Secure Data Solutions',\n",
       "       'Why These 3 Quantum Computing Stocks Are Worth the Risk',\n",
       "       'Could IonQ Stock Help You Become a Millionaire?',\n",
       "       '3 Growth Stocks With More Potential Than Any Cryptocurrency',\n",
       "       'IBM vs. IonQ: Which Quantum Computing Stock Is a Better Buy?',\n",
       "       '3 Artificial Intelligence (AI) Stocks That Could Go Parabolic',\n",
       "       'Constellation Energy and Winnebago Industries have been highlighted as Zacks Bull and Bear of the Day',\n",
       "       \"IONQ Gears Up to Report Q4 Earnings: What's in the Cards?\",\n",
       "       'Why IonQ Stock Is Skyrocketing Today',\n",
       "       'Better Quantum Computing Stock: IBM vs. IonQ',\n",
       "       'IonQ Stock: Buy, Sell, or Hold?',\n",
       "       '3 Tech Stocks That Have Crushed \"Magnificent Seven\" in 2023',\n",
       "       \"Are These 3 Tech Stocks the Market's Best Kept Secrets in 2024?\",\n",
       "       'Why IonQ Stock Skyrocketed 259% Higher Last Year',\n",
       "       'Wall Street Analysts See a 78.65% Upside in IonQ (IONQ): Can the Stock Really Move This High?',\n",
       "       '3 Overvalued Stocks That Could Plunge if the Market Crashes',\n",
       "       'Is Most-Watched Stock IonQ, Inc. (IONQ) Worth Betting on Now?',\n",
       "       \"IONQ Q1 Earnings Coming Up: Here's What You Should Know\",\n",
       "       'IonQ, Inc. (IONQ) Gains As Market Dips: What You Should Know',\n",
       "       'IonQ, Inc. (IONQ) Increases Yet Falls Behind Market: What Investors Need to Know',\n",
       "       'Is Nvidia Also the Best Bet in Quantum Computing Right Now?',\n",
       "       '2 Growth Stocks Billionaires Are Buying Hand Over Fist',\n",
       "       \"If You'd Invested $1,000 in IonQ Stock a Year Ago, Here's How Much You'd Have Today\",\n",
       "       'Is IonQ Stock a Buy Now?',\n",
       "       'IonQ Stock Jumps On Q4 Earnings: What You Need To Know',\n",
       "       'IONQ and SC Quantum Collaborate to Boost Quantum Computing',\n",
       "       'Wall Street Analysts Think IonQ Is a Good Investment: Is It?',\n",
       "       'Why IonQ Stock Jumped 21% Today',\n",
       "       'Is It Too Late to Buy IonQ Stock?',\n",
       "       'Is It Too Late to Buy IonQ Stock?',\n",
       "       'IonQ, Inc. (IONQ) Stock Sinks As Market Gains: What You Should Know',\n",
       "       \"Jim Cramer: This Energy Firm Has 'Good Growth, Good Yield' But As For IonQ? Ixnay\",\n",
       "       'Is Crexendo (CXDO) Outperforming Other Computer and Technology Stocks This Year?',\n",
       "       'Why IonQ Stock Jumped 27% in November',\n",
       "       'IonQ, Inc. (IONQ) Stock Falls Amid Market Uptick: What Investors Need to Know',\n",
       "       'Ignore IonQ: Here Are 2 Better Stocks',\n",
       "       'Is IonQ Stock a Buy Now? - The Motley Fool',\n",
       "       'Why IonQ, Inc. (IONQ) Dipped More Than Broader Market Today',\n",
       "       'IonQ, Inc. (IONQ) Stock Slides as Market Rises: Facts to Know Before You Trade',\n",
       "       '1 Growth Stock Down 59% to Buy Right Now',\n",
       "       'IonQ, Inc. (IONQ) Suffers a Larger Drop Than the General Market: Key Insights',\n",
       "       '3 Millionaire-Maker Technology Stocks',\n",
       "       \"IonQ, Inc. (IONQ) Laps the Stock Market: Here's Why\",\n",
       "       'Forget IonQ: 3 Quantum Computing Stocks to Buy Instead',\n",
       "       '2 Top Tech Stocks Under $20 Per Share',\n",
       "       \"January's Tech Tumble: Inside the Market's Cold Shoulder to Unprofitable Innovators\",\n",
       "       '4 Things About IonQ That Smart Investors Know',\n",
       "       'Key Takeaways From IonQ Analyst Ratings', 'Is IonQ Stock a Buy?',\n",
       "       'Is IonQ Stock a Buy?',\n",
       "       'Oklo, CleanSpark And Wolfspeed Are Among Top 7 Mid Cap Gainers Last Week (Oct 14-18): Are The Others In Your Portfolio?',\n",
       "       'Over $20M Bet On This Healthcare Stock? Check Out These 3 Stocks Insiders Are Buying',\n",
       "       \"Here's Why IonQ, Inc. (IONQ) Fell More Than Broader Market\",\n",
       "       'IONQ & DESY Partner to Optimize Airport Gate Management',\n",
       "       '3 Millionaire-Maker Artificial Intelligence (AI) Stocks',\n",
       "       'ZoomInfo (ZI) Q1 Earnings and Revenues Surpass Estimates',\n",
       "       'IonQ, Inc. (IONQ) Stock Moves -0.24%: What You Should Know',\n",
       "       'Forget Nvidia: 3 Artificial Intelligence (AI) Stocks to Buy Instead',\n",
       "       'IonQ, Inc. (IONQ) Flat As Market Sinks: What You Should Know',\n",
       "       'IonQ: Departure Of Co-Founders Is A Very Negative Development (Rating Downgrade)',\n",
       "       \"Why Butterfly Network Shares Are Trading Lower By 22%? Here Are Other Stocks Moving In Thursday's Mid-Day Session\",\n",
       "       'Why 77% Revenue Growth Is Meaningless for IonQ Stock',\n",
       "       'IonQ, Inc. (IONQ) Reports Q1 Loss, Tops Revenue Estimates',\n",
       "       'PAR Technology (PAR) Reports Q4 Loss, Tops Revenue Estimates',\n",
       "       'Why Did IonQ Stock Tumble 14% in June? - The Motley Fool',\n",
       "       \"Shoals Technologies Posts Weak Q4 Results, Joins Butterfly Network, Schrödinger And Other Big Stocks Moving Lower In Thursday's Pre-Market Session\"],\n",
       "      dtype='<U146')"
      ]
     },
     "execution_count": 18,
     "metadata": {},
     "output_type": "execute_result"
    }
   ],
   "source": [
    "np.array(titles)[np.argsort(similarity)[::-1]]"
   ]
  },
  {
   "cell_type": "code",
   "execution_count": 178,
   "id": "cfdac8c1-fda6-417d-a1e1-b041dec36e45",
   "metadata": {},
   "outputs": [
    {
     "data": {
      "text/plain": [
       "array([0.53699243, 0.5339109 , 0.50433815, 0.5017838 , 0.49928695,\n",
       "       0.4962042 , 0.4940552 , 0.49245661, 0.48951522, 0.488038  ,\n",
       "       0.4856089 , 0.4781688 , 0.4710664 , 0.46704644, 0.4647944 ,\n",
       "       0.46374884, 0.4628927 , 0.46228418, 0.45839572, 0.45772678,\n",
       "       0.45106182, 0.44927406, 0.44903046, 0.44808918, 0.44666806,\n",
       "       0.44517222, 0.44509298, 0.44291025, 0.44289273, 0.44243583,\n",
       "       0.4381907 , 0.4367988 , 0.43673402, 0.4366733 , 0.43432045,\n",
       "       0.43394095, 0.43355584, 0.42974663, 0.4294463 , 0.42888302,\n",
       "       0.42846155, 0.42623854, 0.4253398 , 0.42392564, 0.42389908,\n",
       "       0.42371598, 0.42345062, 0.41979876, 0.41954994, 0.41256848,\n",
       "       0.41207615, 0.41179013, 0.40878052, 0.40812746, 0.40784088,\n",
       "       0.39956793, 0.3994193 , 0.39905488, 0.39642152, 0.390546  ,\n",
       "       0.39046952, 0.38659412, 0.38634506, 0.38629   , 0.38427725,\n",
       "       0.38424024, 0.38391083, 0.38216695, 0.38141775, 0.38141775,\n",
       "       0.3767775 , 0.37564725, 0.37527055, 0.3752303 , 0.37521854,\n",
       "       0.37322953, 0.37297782, 0.37084654, 0.37041953, 0.36807412,\n",
       "       0.36195964, 0.36185583, 0.3606185 , 0.36029187, 0.35928217,\n",
       "       0.3562083 , 0.35563934, 0.34850833, 0.34773123, 0.3441165 ,\n",
       "       0.34352207, 0.34018707, 0.33978614, 0.33968407, 0.33789638,\n",
       "       0.3371613 , 0.33460099, 0.32437697, 0.32290912, 0.31584948],\n",
       "      dtype=float32)"
      ]
     },
     "execution_count": 178,
     "metadata": {},
     "output_type": "execute_result"
    }
   ],
   "source": [
    "similarity[np.argsort(similarity)[::-1]]"
   ]
  },
  {
   "cell_type": "code",
   "execution_count": null,
   "id": "99076f72-4cfe-44a3-bb0b-c03bf8c93404",
   "metadata": {},
   "outputs": [],
   "source": []
  },
  {
   "cell_type": "code",
   "execution_count": null,
   "id": "c706441e-c906-4f24-a89a-4f21191dbf06",
   "metadata": {},
   "outputs": [],
   "source": []
  },
  {
   "cell_type": "code",
   "execution_count": null,
   "id": "0ecbcbd7-ab27-4093-bfdc-51b6c9c9706e",
   "metadata": {},
   "outputs": [],
   "source": []
  },
  {
   "cell_type": "code",
   "execution_count": null,
   "id": "c3eb02a2-e65e-467f-a7e8-08d664cebf28",
   "metadata": {},
   "outputs": [],
   "source": []
  },
  {
   "cell_type": "code",
   "execution_count": null,
   "id": "e98420db-cf70-4d1f-9dc5-31ccab8d1bf1",
   "metadata": {},
   "outputs": [],
   "source": []
  },
  {
   "cell_type": "code",
   "execution_count": null,
   "id": "420c163d-744c-4aa0-aa6d-9a4be2e348d9",
   "metadata": {},
   "outputs": [],
   "source": []
  },
  {
   "cell_type": "code",
   "execution_count": null,
   "id": "a455733d-6aa2-4b17-938f-21dc13a223fe",
   "metadata": {},
   "outputs": [],
   "source": []
  }
 ],
 "metadata": {
  "kernelspec": {
   "display_name": "Python 3 (ipykernel)",
   "language": "python",
   "name": "python3"
  },
  "language_info": {
   "codemirror_mode": {
    "name": "ipython",
    "version": 3
   },
   "file_extension": ".py",
   "mimetype": "text/x-python",
   "name": "python",
   "nbconvert_exporter": "python",
   "pygments_lexer": "ipython3",
   "version": "3.11.7"
  }
 },
 "nbformat": 4,
 "nbformat_minor": 5
}
